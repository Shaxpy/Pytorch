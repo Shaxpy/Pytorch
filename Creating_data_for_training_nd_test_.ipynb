{
  "nbformat": 4,
  "nbformat_minor": 0,
  "metadata": {
    "colab": {
      "name": "Creating data for training nd test .ipynb",
      "provenance": []
    },
    "kernelspec": {
      "name": "python3",
      "display_name": "Python 3"
    }
  },
  "cells": [
    {
      "cell_type": "code",
      "metadata": {
        "id": "FpWUZQRYIBNU",
        "colab_type": "code",
        "colab": {
          "base_uri": "https://localhost:8080/",
          "height": 72
        },
        "outputId": "74423ff5-f75b-4115-c4aa-c8dcc8b897aa"
      },
      "source": [
        "pip install torch\n"
      ],
      "execution_count": 81,
      "outputs": [
        {
          "output_type": "stream",
          "text": [
            "Requirement already satisfied: torch in /usr/local/lib/python3.6/dist-packages (1.3.1)\n",
            "Requirement already satisfied: numpy in /usr/local/lib/python3.6/dist-packages (from torch) (1.17.5)\n"
          ],
          "name": "stdout"
        }
      ]
    },
    {
      "cell_type": "code",
      "metadata": {
        "id": "TgjsHKtzIG8B",
        "colab_type": "code",
        "colab": {}
      },
      "source": [
        "import torch\n",
        "import torch.nn as nn\n",
        "import matplotlib.pyplot as plt\n",
        "import numpy as np"
      ],
      "execution_count": 0,
      "outputs": []
    },
    {
      "cell_type": "code",
      "metadata": {
        "id": "EJKZjJ2yBaIy",
        "colab_type": "code",
        "colab": {
          "base_uri": "https://localhost:8080/",
          "height": 296
        },
        "outputId": "2f5e4f50-9d10-4830-80e1-d1ae2fe8d7fb"
      },
      "source": [
        "x=torch.randn(100,1)*10\n",
        "y=x + 3*torch.randn(100,1)\n",
        "plt.plot(x.numpy(),y.numpy(),'o')\n",
        "plt.ylabel('Y')\n",
        "plt.xlabel('X')"
      ],
      "execution_count": 95,
      "outputs": [
        {
          "output_type": "execute_result",
          "data": {
            "text/plain": [
              "Text(0.5, 0, 'X')"
            ]
          },
          "metadata": {
            "tags": []
          },
          "execution_count": 95
        },
        {
          "output_type": "display_data",
          "data": {
            "image/png": "[encoded data removed]",
            "text/plain": [
              "<Figure size 432x288 with 1 Axes>"
            ]
          },
          "metadata": {
            "tags": []
          }
        }
      ]
    },
    {
      "cell_type": "code",
      "metadata": {
        "id": "rNNkxmIoXPmb",
        "colab_type": "code",
        "colab": {}
      },
      "source": [
        "class LR(nn.Module):\n",
        "  def __init__(self,input_size,output_size):\n",
        "  #contructor init\n",
        "  #self -instance of the class yet to be initialised\n",
        "    super().__init__()\n",
        "    self.linear=nn.Linear(input_size,output_size)\n",
        "  def forward(self,x):\n",
        "    pred=self.linear(x)\n",
        "    return pred"
      ],
      "execution_count": 0,
      "outputs": []
    },
    {
      "cell_type": "code",
      "metadata": {
        "id": "EXBV6QrjYABr",
        "colab_type": "code",
        "colab": {
          "base_uri": "https://localhost:8080/",
          "height": 69
        },
        "outputId": "506dc83c-fa8c-4711-c9d2-7d1f2b330cf2"
      },
      "source": [
        "torch.manual_seed(1)\n",
        "model=LR(1,1)\n",
        "print(model)\n"
      ],
      "execution_count": 85,
      "outputs": [
        {
          "output_type": "stream",
          "text": [
            "LR(\n",
            "  (linear): Linear(in_features=1, out_features=1, bias=True)\n",
            ")\n"
          ],
          "name": "stdout"
        }
      ]
    },
    {
      "cell_type": "code",
      "metadata": {
        "id": "xdnOj5qn3xuf",
        "colab_type": "code",
        "colab": {}
      },
      "source": [
        "[w,b]=model.parameters()\n",
        "\n",
        "w1=w[0][0].item()\n",
        "b1=b[0].item()\n",
        "def get():\n",
        "  return (w1,b1)\n",
        " # y=wx+b"
      ],
      "execution_count": 0,
      "outputs": []
    },
    {
      "cell_type": "code",
      "metadata": {
        "id": "le1mP6k6CxMv",
        "colab_type": "code",
        "colab": {}
      },
      "source": [
        "def plot(title):\n",
        "  plt.title=title\n",
        "  w1,b1=get()\n",
        "  x1=np.array([-30,30])\n",
        "\n",
        "  y1=w1*x1+b1\n",
        "  plt.plot(x1,y1,'r')\n",
        "  plt.scatter(x,y)\n",
        "  plt.show()\n"
      ],
      "execution_count": 0,
      "outputs": []
    },
    {
      "cell_type": "code",
      "metadata": {
        "id": "ex_MJndhFEqB",
        "colab_type": "code",
        "colab": {
          "base_uri": "https://localhost:8080/",
          "height": 265
        },
        "outputId": "a862ac6f-49bc-4804-fa32-86247663d2a7"
      },
      "source": [
        "  plot('Initial Model')"
      ],
      "execution_count": 97,
      "outputs": [
        {
          "output_type": "display_data",
          "data": {
            "image/png": "[encoded data removed]",
            "text/plain": [
              "<Figure size 432x288 with 1 Axes>"
            ]
          },
          "metadata": {
            "tags": []
          }
        }
      ]
    },
    {
      "cell_type": "code",
      "metadata": {
        "id": "3ExB3ZKJD5zJ",
        "colab_type": "code",
        "colab": {}
      },
      "source": [
        ""
      ],
      "execution_count": 0,
      "outputs": []
    }
  ]
}