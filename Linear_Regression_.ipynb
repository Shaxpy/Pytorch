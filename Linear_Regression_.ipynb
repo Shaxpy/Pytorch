{
  "nbformat": 4,
  "nbformat_minor": 0,
  "metadata": {
    "colab": {
      "name": "Linear-Regression .ipynb",
      "provenance": []
    },
    "kernelspec": {
      "name": "python3",
      "display_name": "Python 3"
    }
  },
  "cells": [
    {
      "cell_type": "code",
      "metadata": {
        "id": "FpWUZQRYIBNU",
        "colab_type": "code",
        "colab": {
          "base_uri": "https://localhost:8080/",
          "height": 72
        },
        "outputId": "c97b6e59-548e-4fdd-893b-82c2edc1cf6d"
      },
      "source": [
        "pip install torch\n"
      ],
      "execution_count": 1,
      "outputs": [
        {
          "output_type": "stream",
          "text": [
            "Requirement already satisfied: torch in /usr/local/lib/python3.6/dist-packages (1.3.1)\n",
            "Requirement already satisfied: numpy in /usr/local/lib/python3.6/dist-packages (from torch) (1.17.5)\n"
          ],
          "name": "stdout"
        }
      ]
    },
    {
      "cell_type": "code",
      "metadata": {
        "id": "TgjsHKtzIG8B",
        "colab_type": "code",
        "colab": {}
      },
      "source": [
        "import torch\n",
        "import torch.nn as nn\n",
        "import matplotlib.pyplot as plt\n",
        "import numpy as np"
      ],
      "execution_count": 0,
      "outputs": []
    },
    {
      "cell_type": "code",
      "metadata": {
        "id": "EJKZjJ2yBaIy",
        "colab_type": "code",
        "colab": {
          "base_uri": "https://localhost:8080/",
          "height": 296
        },
        "outputId": "f969b9ec-99cd-443d-862a-fe550b98cb41"
      },
      "source": [
        "x=torch.randn(100,1)*10\n",
        "y=x + 3*torch.randn(100,1)\n",
        "plt.plot(x.numpy(),y.numpy(),'o')\n",
        "plt.ylabel('Y')\n",
        "plt.xlabel('X')"
      ],
      "execution_count": 3,
      "outputs": [
        {
          "output_type": "execute_result",
          "data": {
            "text/plain": [
              "Text(0.5, 0, 'X')"
            ]
          },
          "metadata": {
            "tags": []
          },
          "execution_count": 3
        },
        {
          "output_type": "display_data",
          "data": {
            "image/png": "[encoded data removed]",
            "text/plain": [
              "<Figure size 432x288 with 1 Axes>"
            ]
          },
          "metadata": {
            "tags": []
          }
        }
      ]
    },
    {
      "cell_type": "code",
      "metadata": {
        "id": "E88AYXLmKtop",
        "colab_type": "code",
        "colab": {}
      },
      "source": [
        ""
      ],
      "execution_count": 0,
      "outputs": []
    },
    {
      "cell_type": "code",
      "metadata": {
        "id": "rNNkxmIoXPmb",
        "colab_type": "code",
        "colab": {}
      },
      "source": [
        "class LR(nn.Module):\n",
        "  def __init__(self,input_size,output_size):\n",
        "  #contructor init\n",
        "  #self -instance of the class yet to be initialised\n",
        "    super().__init__()\n",
        "    self.linear=nn.Linear(input_size,output_size)\n",
        "  def forward(self,x):\n",
        "    pred=self.linear(x)\n",
        "    return pred"
      ],
      "execution_count": 0,
      "outputs": []
    },
    {
      "cell_type": "code",
      "metadata": {
        "id": "EXBV6QrjYABr",
        "colab_type": "code",
        "colab": {
          "base_uri": "https://localhost:8080/",
          "height": 69
        },
        "outputId": "2f899c62-6f59-478c-e854-575d41ae3c83"
      },
      "source": [
        "torch.manual_seed(1)\n",
        "model=LR(1,1)\n",
        "print(model)\n"
      ],
      "execution_count": 5,
      "outputs": [
        {
          "output_type": "stream",
          "text": [
            "LR(\n",
            "  (linear): Linear(in_features=1, out_features=1, bias=True)\n",
            ")\n"
          ],
          "name": "stdout"
        }
      ]
    },
    {
      "cell_type": "code",
      "metadata": {
        "id": "xdnOj5qn3xuf",
        "colab_type": "code",
        "colab": {}
      },
      "source": [
        "[w,b]=model.parameters()\n",
        "\n",
        "w1=w[0][0].item()\n",
        "b1=b[0].item()\n",
        "def get():\n",
        "  return (w1,b1)\n",
        " # y=wx+b"
      ],
      "execution_count": 0,
      "outputs": []
    },
    {
      "cell_type": "code",
      "metadata": {
        "id": "le1mP6k6CxMv",
        "colab_type": "code",
        "colab": {}
      },
      "source": [
        "def plot(title):\n",
        "  plt.title=title\n",
        "  w1,b1=get()\n",
        "  x1=np.array([-30,30])\n",
        "\n",
        "  y1=w1*x1+b1\n",
        "  plt.plot(x1,y1,'r')\n",
        "  plt.scatter(x,y)\n",
        "  plt.show()\n"
      ],
      "execution_count": 0,
      "outputs": []
    },
    {
      "cell_type": "code",
      "metadata": {
        "id": "ex_MJndhFEqB",
        "colab_type": "code",
        "colab": {
          "base_uri": "https://localhost:8080/",
          "height": 265
        },
        "outputId": "f3b9d67d-0e5f-4a09-a021-1b9fcd6f0db6"
      },
      "source": [
        "  plot('Initial Model')"
      ],
      "execution_count": 8,
      "outputs": [
        {
          "output_type": "display_data",
          "data": {
            "image/png": "[encoded data removed]",
            "text/plain": [
              "<Figure size 432x288 with 1 Axes>"
            ]
          },
          "metadata": {
            "tags": []
          }
        }
      ]
    },
    {
      "cell_type": "code",
      "metadata": {
        "id": "3ExB3ZKJD5zJ",
        "colab_type": "code",
        "colab": {}
      },
      "source": [
        "#gradient_DEscent begins!\n",
        "# Updates weights and biases of our data in the direction that \n",
        "# decreases error function of our learning curve the most\n",
        "losses=[]\n",
        "criterion=nn.MSELoss()\n",
        "optimizer=torch.optim.SGD(model.parameters(),lr=0.01)\n",
        "#SARCASTIC GD--FASTER\n",
        "epochs=100"
      ],
      "execution_count": 0,
      "outputs": []
    },
    {
      "cell_type": "code",
      "metadata": {
        "id": "moBmWdIxLRrJ",
        "colab_type": "code",
        "colab": {
          "base_uri": "https://localhost:8080/",
          "height": 1000
        },
        "outputId": "1691be3e-555a-45f6-cba3-e1fdb952023b"
      },
      "source": [
        "\n",
        "for i in range(epochs):\n",
        "  y_pred=model.forward(x)\n",
        "  #we make prediction\n",
        "  loss=criterion(y_pred,y)\n",
        "  print('epoch :',i,'loss :',loss.item())\n",
        "  optimizer.zero_grad()\n",
        "  losses.append(loss)\n",
        "  loss.backward()\n",
        "  #we must minimize the loss\n",
        "  optimizer.step()"
      ],
      "execution_count": 10,
      "outputs": [
        {
          "output_type": "stream",
          "text": [
            "epoch : 0 loss : 30.42337417602539\n",
            "epoch : 1 loss : 41.83005142211914\n",
            "epoch : 2 loss : 59.278743743896484\n",
            "epoch : 3 loss : 85.96656036376953\n",
            "epoch : 4 loss : 126.78243255615234\n",
            "epoch : 5 loss : 189.2027587890625\n",
            "epoch : 6 loss : 284.6599426269531\n",
            "epoch : 7 loss : 430.6362609863281\n",
            "epoch : 8 loss : 653.86572265625\n",
            "epoch : 9 loss : 995.2302856445312\n",
            "epoch : 10 loss : 1517.2432861328125\n",
            "epoch : 11 loss : 2315.50341796875\n",
            "epoch : 12 loss : 3536.195068359375\n",
            "epoch : 13 loss : 5402.865234375\n",
            "epoch : 14 loss : 8257.3662109375\n",
            "epoch : 15 loss : 12622.4130859375\n",
            "epoch : 16 loss : 19297.38671875\n",
            "epoch : 17 loss : 29504.6953125\n",
            "epoch : 18 loss : 45113.5703125\n",
            "epoch : 19 loss : 68982.375\n",
            "epoch : 20 loss : 105482.28125\n",
            "epoch : 21 loss : 161297.390625\n",
            "epoch : 22 loss : 246649.203125\n",
            "epoch : 23 loss : 377168.03125\n",
            "epoch : 24 loss : 576755.625\n",
            "epoch : 25 loss : 881962.0\n",
            "epoch : 26 loss : 1348679.25\n",
            "epoch : 27 loss : 2062377.875\n",
            "epoch : 28 loss : 3153754.25\n",
            "epoch : 29 loss : 4822675.0\n",
            "epoch : 30 loss : 7374759.0\n",
            "epoch : 31 loss : 11277381.0\n",
            "epoch : 32 loss : 17245224.0\n",
            "epoch : 33 loss : 26371168.0\n",
            "epoch : 34 loss : 40326472.0\n",
            "epoch : 35 loss : 61666748.0\n",
            "epoch : 36 loss : 94299936.0\n",
            "epoch : 37 loss : 144202128.0\n",
            "epoch : 38 loss : 220511888.0\n",
            "epoch : 39 loss : 337203520.0\n",
            "epoch : 40 loss : 515647104.0\n",
            "epoch : 41 loss : 788520576.0\n",
            "epoch : 42 loss : 1205794048.0\n",
            "epoch : 43 loss : 1843880832.0\n",
            "epoch : 44 loss : 2819638272.0\n",
            "epoch : 45 loss : 4311754240.0\n",
            "epoch : 46 loss : 6593484288.0\n",
            "epoch : 47 loss : 10082674688.0\n",
            "epoch : 48 loss : 15418295296.0\n",
            "epoch : 49 loss : 23577427968.0\n",
            "epoch : 50 loss : 36054306816.0\n",
            "epoch : 51 loss : 55133749248.0\n",
            "epoch : 52 loss : 84309729280.0\n",
            "epoch : 53 loss : 128925204480.0\n",
            "epoch : 54 loss : 197150621696.0\n",
            "epoch : 55 loss : 301480017920.0\n",
            "epoch : 56 loss : 461018890240.0\n",
            "epoch : 57 loss : 704983597056.0\n",
            "epoch : 58 loss : 1078052519936.0\n",
            "epoch : 59 loss : 1648543924224.0\n",
            "epoch : 60 loss : 2520931631104.0\n",
            "epoch : 61 loss : 3854973796352.0\n",
            "epoch : 62 loss : 5894971064320.0\n",
            "epoch : 63 loss : 9014505111552.0\n",
            "epoch : 64 loss : 13784859017216.0\n",
            "epoch : 65 loss : 21079632379904.0\n",
            "epoch : 66 loss : 32234685857792.0\n",
            "epoch : 67 loss : 49292869894144.0\n",
            "epoch : 68 loss : 75377993056256.0\n",
            "epoch : 69 loss : 115267015278592.0\n",
            "epoch : 70 loss : 176264820293632.0\n",
            "epoch : 71 loss : 269541946949632.0\n",
            "epoch : 72 loss : 412179991887872.0\n",
            "epoch : 73 loss : 630299939569664.0\n",
            "epoch : 74 loss : 963845354946560.0\n",
            "epoch : 75 loss : 1473898155606016.0\n",
            "epoch : 76 loss : 2253864350777344.0\n",
            "epoch : 77 loss : 3446578647924736.0\n",
            "epoch : 78 loss : 5270465501200384.0\n",
            "epoch : 79 loss : 8059517942104064.0\n",
            "epoch : 80 loss : 1.2324506366377984e+16\n",
            "epoch : 81 loss : 1.884646467121971e+16\n",
            "epoch : 82 loss : 2.881975883713741e+16\n",
            "epoch : 83 loss : 4.40707667984384e+16\n",
            "epoch : 84 loss : 6.739239626604544e+16\n",
            "epoch : 85 loss : 1.0305550688452608e+17\n",
            "epoch : 86 loss : 1.575910431040471e+17\n",
            "epoch : 87 loss : 2.4098607949309542e+17\n",
            "epoch : 88 loss : 3.685126951225262e+17\n",
            "epoch : 89 loss : 5.635243108078715e+17\n",
            "epoch : 90 loss : 8.61733923212755e+17\n",
            "epoch : 91 loss : 1.317752728700584e+18\n",
            "epoch : 92 loss : 2.0150920026553057e+18\n",
            "epoch : 93 loss : 3.0814536297317663e+18\n",
            "epoch : 94 loss : 4.712119258799145e+18\n",
            "epoch : 95 loss : 7.205705527723033e+18\n",
            "epoch : 96 loss : 1.1018885520129262e+19\n",
            "epoch : 97 loss : 1.6849927734736978e+19\n",
            "epoch : 98 loss : 2.576667896395386e+19\n",
            "epoch : 99 loss : 3.940202832423656e+19\n"
          ],
          "name": "stdout"
        }
      ]
    },
    {
      "cell_type": "code",
      "metadata": {
        "id": "keAmNTT9LWMK",
        "colab_type": "code",
        "colab": {
          "base_uri": "https://localhost:8080/",
          "height": 290
        },
        "outputId": "0b2b3a5a-9162-4b1e-9e32-bf9a250c38c0"
      },
      "source": [
        "plt.plot(range(epochs),losses,'k')\n",
        "plt.xlabel('epochs')\n",
        "plt.ylabel('losses')\n",
        "plot('Trained model')"
      ],
      "execution_count": 11,
      "outputs": [
        {
          "output_type": "display_data",
          "data": {
            "image/png": "[encoded data removed]",
            "text/plain": [
              "<Figure size 432x288 with 1 Axes>"
            ]
          },
          "metadata": {
            "tags": []
          }
        }
      ]
    },
    {
      "cell_type": "code",
      "metadata": {
        "id": "r14h03AmMTmM",
        "colab_type": "code",
        "colab": {}
      },
      "source": [
        ""
      ],
      "execution_count": 0,
      "outputs": []
    }
  ]
}